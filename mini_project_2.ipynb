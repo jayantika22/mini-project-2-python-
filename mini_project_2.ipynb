{
  "nbformat": 4,
  "nbformat_minor": 0,
  "metadata": {
    "colab": {
      "provenance": [],
      "authorship_tag": "ABX9TyP5J5vDuWVwj94cgGtftlya",
      "include_colab_link": true
    },
    "kernelspec": {
      "name": "python3",
      "display_name": "Python 3"
    },
    "language_info": {
      "name": "python"
    }
  },
  "cells": [
    {
      "cell_type": "markdown",
      "metadata": {
        "id": "view-in-github",
        "colab_type": "text"
      },
      "source": [
        "<a href=\"https://colab.research.google.com/github/jayantika22/mini-project-2-python-/blob/main/mini_project_2.ipynb\" target=\"_parent\"><img src=\"https://colab.research.google.com/assets/colab-badge.svg\" alt=\"Open In Colab\"/></a>"
      ]
    },
    {
      "cell_type": "code",
      "source": [
        "#Q1. Write a python program to sort the list of heterogeneous data.\n",
        "#e.g.\n",
        "#L = [\"Ram\", 1, \"Shyam\", 2, \"Aman\", 3]\n",
        "#print(L)\n",
        "#L.sort()\n",
        "#print(L)\n",
        "# Above code gives error. Correct it\n",
        "\n",
        "L = [\"RAM\", 1, \"SHYAM\", 2, \"AMAN\", 3]\n",
        "L = [str(i) for i in L]\n",
        "\n",
        "L.sort()\n",
        "print(L)\n",
        "\n",
        "L1 = []\n",
        "for i in L:\n",
        "  try:\n",
        "    L1.append(int(i))\n",
        "  except:\n",
        "    L1.append(i)\n",
        "\n",
        "print(L1)\n",
        "\n",
        "\n"
      ],
      "metadata": {
        "colab": {
          "base_uri": "https://localhost:8080/"
        },
        "id": "mIKsuKhKuBjh",
        "outputId": "79af4a54-1884-48b6-e4c0-a7c5a4b23d0a"
      },
      "execution_count": 1,
      "outputs": [
        {
          "output_type": "stream",
          "name": "stdout",
          "text": [
            "['1', '2', '3', 'AMAN', 'RAM', 'SHYAM']\n",
            "[1, 2, 3, 'AMAN', 'RAM', 'SHYAM']\n"
          ]
        }
      ]
    }
  ]
}